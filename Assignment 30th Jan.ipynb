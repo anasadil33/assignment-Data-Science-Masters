{
 "cells": [
  {
   "cell_type": "code",
   "execution_count": 1,
   "id": "e5be0a6e-e465-4f3c-8ad6-b24b1e5b8c17",
   "metadata": {},
   "outputs": [],
   "source": [
    "#assignment 30th Jan "
   ]
  },
  {
   "cell_type": "code",
   "execution_count": 6,
   "id": "5dd07fdd-21bb-449a-bb47-7a967f153244",
   "metadata": {},
   "outputs": [
    {
     "name": "stdin",
     "output_type": "stream",
     "text": [
      "Enter the percentage\n",
      " 77\n"
     ]
    },
    {
     "name": "stdout",
     "output_type": "stream",
     "text": [
      "Grade : C\n"
     ]
    }
   ],
   "source": [
    "#1) Write a program to accept percentage from the user and display the grade accordingly to the following criteria \n",
    "percentage = input(\"Enter the percentage\\n\")\n",
    "percentage_val = float(percentage)\n",
    "\n",
    "if percentage_val > 90:\n",
    "    print(\"Grade : A\")\n",
    "elif percentage_val > 80 and percentage_val <= 90:\n",
    "    print (\"Grade : B\")\n",
    "elif percentage_val >= 60 and percentage_val <= 80:\n",
    "    print (\"Grade : C\")\n",
    "elif percentage_val < 60:\n",
    "    print(\"Grade : D\")\n",
    "else:\n",
    "    print (\"Enter percentage again\")"
   ]
  },
  {
   "cell_type": "code",
   "execution_count": 12,
   "id": "d7a5cee5-3264-49df-ae1f-1daa54782498",
   "metadata": {},
   "outputs": [
    {
     "name": "stdin",
     "output_type": "stream",
     "text": [
      "Enter the price of the bike 40000\n"
     ]
    },
    {
     "name": "stdout",
     "output_type": "stream",
     "text": [
      "40000\n",
      "The tax to be paid is 2000.0\n"
     ]
    }
   ],
   "source": [
    "#2) Write a program to accept the cost of a bike and display the road tax to be paid according to the following criteria. \n",
    "cost_bike = input(\"Enter the price of the bike\")\n",
    "cost = float (cost_bike)\n",
    "print (cost_bike)\n",
    "\n",
    "if cost > 100000:\n",
    "    cost= cost*0.15\n",
    "    print (\"The tax to be paid is\", cost)\n",
    "elif cost > 50000 and cost <=100000:\n",
    "    cost= cost*0.10\n",
    "    print (\"The tax to be paid is\", cost)\n",
    "elif cost < 50000:\n",
    "    cost= cost*0.05\n",
    "    print (\"The tax to be paid is\", cost)\n",
    "else:\n",
    "    print (\"Enter correct input\")\n",
    "    \n",
    "    \n",
    "        \n"
   ]
  },
  {
   "cell_type": "code",
   "execution_count": 17,
   "id": "0ce1b9c1-8061-45f6-98bf-a9483407aeec",
   "metadata": {},
   "outputs": [
    {
     "name": "stdin",
     "output_type": "stream",
     "text": [
      "Enter the name of the city Kuwait \n"
     ]
    },
    {
     "name": "stdout",
     "output_type": "stream",
     "text": [
      "Result not found\n"
     ]
    }
   ],
   "source": [
    "#3) Accept any city from the user and dispaly display monuments of the city \n",
    "city = input (\"Enter the name of the city\")\n",
    "if city == \"Delhi\":\n",
    "    print (\"Red Fort\")\n",
    "elif city == \"Agra\":\n",
    "    print (\"Taj Mahal\")\n",
    "elif city == \"Jaipur\":\n",
    "    print (\"Jal Mahal\")\n",
    "else:\n",
    "    print(\"Result not found\")"
   ]
  },
  {
   "cell_type": "code",
   "execution_count": 1,
   "id": "dd514601-5b1a-464d-862f-ef61a17bb357",
   "metadata": {},
   "outputs": [
    {
     "name": "stdin",
     "output_type": "stream",
     "text": [
      "Enter the number 3\n"
     ]
    },
    {
     "name": "stdout",
     "output_type": "stream",
     "text": [
      "Number is not divisible by 3, therefore, O\n"
     ]
    }
   ],
   "source": [
    "#4) check how many times a number can be divided by three before it is less than or equal to three\n",
    "number = input(\"Enter the number\")\n",
    "number_int = int(number)\n",
    "m=3\n",
    "count = 0\n",
    "if number_int%3==0 and number_int>10:\n",
    "    \n",
    "    while number_int%m<= 10:\n",
    "        count+=1\n",
    "        print (count)\n",
    "    \n",
    "    \n",
    "else: \n",
    "    print(\"Number is not divisible by 3, therefore, O\")\n",
    "\n",
    "   "
   ]
  },
  {
   "cell_type": "code",
   "execution_count": 2,
   "id": "87b8e38f-81e6-437b-991c-28bbb24d54cc",
   "metadata": {},
   "outputs": [
    {
     "name": "stdout",
     "output_type": "stream",
     "text": [
      "1\n",
      "2\n",
      "3\n",
      "4\n",
      "5\n"
     ]
    }
   ],
   "source": [
    "#5) Why and when to use while loop in python give a detailed description with example\n",
    "#ans) While loop in python is used to run a block of code until the given conditons are satisfied. It evaluates the condition to True so as to execute the block of code. This porcess continues until the \n",
    "#conditon becomes false.\n",
    "\n",
    "i = 1\n",
    "n = 5\n",
    "while i <= n:\n",
    "    print(i)\n",
    "    i = i + 1\n",
    "\n"
   ]
  },
  {
   "cell_type": "code",
   "execution_count": 5,
   "id": "9e5351d0-7c5a-4bc9-8acd-a1740db0f280",
   "metadata": {},
   "outputs": [
    {
     "name": "stdin",
     "output_type": "stream",
     "text": [
      "Enter number of rows :  4\n"
     ]
    },
    {
     "name": "stdout",
     "output_type": "stream",
     "text": [
      "* \n",
      "* * \n",
      "* * * \n",
      "* * * * \n"
     ]
    }
   ],
   "source": [
    "#6) Print 3 different patterns using nested while loop\n",
    "#1\n",
    "n = int(input('Enter number of rows : '))\n",
    "\n",
    "i = 1\n",
    "while i <= n :\n",
    "    j = 1\n",
    "    while j <= i:\n",
    "        print(\"*\", end = \" \")\n",
    "        j += 1\n",
    "    print()\n",
    "    i += 1"
   ]
  },
  {
   "cell_type": "code",
   "execution_count": 6,
   "id": "bd716aec-ecdf-42ae-99d6-744c21caabca",
   "metadata": {},
   "outputs": [
    {
     "name": "stdin",
     "output_type": "stream",
     "text": [
      "Enter number of rows :  6\n"
     ]
    },
    {
     "name": "stdout",
     "output_type": "stream",
     "text": [
      "* * * * * * \n",
      "* * * * * \n",
      "* * * * \n",
      "* * * \n",
      "* * \n",
      "* \n"
     ]
    }
   ],
   "source": [
    "#2\n",
    "n = int(input('Enter number of rows : '))\n",
    " \n",
    "i = 1\n",
    "while i <= n :\n",
    "    j = n\n",
    "    while j >= i:\n",
    "        print(\"*\", end = \" \")\n",
    "        j -= 1\n",
    "    print()\n",
    "    i += 1"
   ]
  },
  {
   "cell_type": "code",
   "execution_count": 2,
   "id": "6d2c3d45-5835-400c-b33f-cdf882b9b049",
   "metadata": {},
   "outputs": [
    {
     "name": "stdout",
     "output_type": "stream",
     "text": [
      "0 0 0 0 0 0 \n",
      "0 1 2 3 4 5 \n",
      "0 2 4 6 8 10 \n",
      "0 3 6 9 12 15 \n",
      "\n",
      "0 0 0 0 0 0 \n",
      "0 2 4 6 8 10 \n",
      "0 4 8 12 16 20 \n",
      "0 6 12 18 24 30 \n",
      "\n",
      "0 0 0 0 0 0 \n",
      "0 3 6 9 12 15 \n",
      "0 6 12 18 24 30 \n",
      "0 9 18 27 36 45 \n",
      "\n",
      "0 0 0 0 0 0 \n",
      "0 4 8 12 16 20 \n",
      "0 8 16 24 32 40 \n",
      "0 12 24 36 48 60 \n",
      "\n"
     ]
    }
   ],
   "source": [
    "#3\n",
    "i = 1\n",
    "while i <= 4 :\n",
    "    j = 0\n",
    "    while  j <= 3 :\n",
    "        k = 0\n",
    "        while  k <= 5 :\n",
    "            print(i*j*k, end=\" \")\n",
    "            k += 1\n",
    "        print()\n",
    "        j += 1\n",
    "    print()\n",
    "    i += 1"
   ]
  },
  {
   "cell_type": "code",
   "execution_count": 3,
   "id": "0af0815c-d1b2-48e4-8602-99f97b5fa8e8",
   "metadata": {},
   "outputs": [
    {
     "name": "stdout",
     "output_type": "stream",
     "text": [
      "10\n",
      "9\n",
      "8\n",
      "7\n",
      "6\n",
      "5\n",
      "4\n",
      "3\n",
      "2\n",
      "1\n"
     ]
    }
   ],
   "source": [
    "#7 Reverse a while loop to display numbers from 10 to 1\n",
    "i = 10\n",
    "while i > 0:\n",
    "    print(i)\n",
    "    i = i - 1"
   ]
  },
  {
   "cell_type": "code",
   "execution_count": 4,
   "id": "813637ec-0576-47de-8f6b-989afce5a5e2",
   "metadata": {},
   "outputs": [
    {
     "name": "stdout",
     "output_type": "stream",
     "text": [
      "10\n",
      "9\n",
      "8\n",
      "7\n",
      "6\n",
      "5\n",
      "4\n",
      "3\n",
      "2\n",
      "1\n"
     ]
    }
   ],
   "source": [
    "#8 Reverse a while loop to display numbers from 10 to 1\n",
    "i = 10\n",
    "while i > 0:\n",
    "    print(i)\n",
    "    i = i - 1"
   ]
  },
  {
   "cell_type": "code",
   "execution_count": null,
   "id": "adf020a3-0d7f-4027-81bf-d244eb3df80e",
   "metadata": {},
   "outputs": [],
   "source": []
  }
 ],
 "metadata": {
  "kernelspec": {
   "display_name": "Python 3 (ipykernel)",
   "language": "python",
   "name": "python3"
  },
  "language_info": {
   "codemirror_mode": {
    "name": "ipython",
    "version": 3
   },
   "file_extension": ".py",
   "mimetype": "text/x-python",
   "name": "python",
   "nbconvert_exporter": "python",
   "pygments_lexer": "ipython3",
   "version": "3.10.8"
  }
 },
 "nbformat": 4,
 "nbformat_minor": 5
}
