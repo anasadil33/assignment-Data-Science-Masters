{
 "cells": [
  {
   "cell_type": "code",
   "execution_count": null,
   "id": "3f0ea1e4-ed38-41a6-aa1d-95d19f793838",
   "metadata": {},
   "outputs": [],
   "source": [
    "# Assignment 29th Jan 2023. \n",
    "1) Who developed the python programming language?\n",
    "ans) Python was developed by Guido van Rossum in 1991.  "
   ]
  },
  {
   "cell_type": "code",
   "execution_count": null,
   "id": "4b8152ef-eb38-4874-8643-85783b0a71c8",
   "metadata": {},
   "outputs": [],
   "source": [
    "2) Which type of programming does python support? \n",
    "ans) Python supports object-oriented, structured, and functional programming."
   ]
  },
  {
   "cell_type": "code",
   "execution_count": null,
   "id": "e4309f14-61f2-44a2-967f-072c3e4b3cf1",
   "metadata": {},
   "outputs": [],
   "source": [
    "3) Is python case sensitive when dealing with identifiers? \n",
    "ans) Python is case sensitive when dealing with identifiers. \n"
   ]
  },
  {
   "cell_type": "code",
   "execution_count": null,
   "id": "65d971ef-1672-48e3-a283-36c41c46ab48",
   "metadata": {},
   "outputs": [],
   "source": [
    "4) What is the correct extension of python file?\n",
    "ans) The correct extension of a python file is .py. "
   ]
  },
  {
   "cell_type": "code",
   "execution_count": null,
   "id": "d3e785a6-b2e3-43a0-a61d-90a99d688b8f",
   "metadata": {},
   "outputs": [],
   "source": [
    "5) Is python code compiled or interpreted? \n",
    "ans) Python is compiled as well as interpreted. However the copilation part is hidden from the user. "
   ]
  },
  {
   "cell_type": "code",
   "execution_count": null,
   "id": "a878e45e-d8d4-46f4-a213-87c8ea4e4c93",
   "metadata": {},
   "outputs": [],
   "source": [
    "6)Name a few blocks of code used to define in Python language? \n",
    "ans) A few blocks of code that care used to define in python are functions. "
   ]
  },
  {
   "cell_type": "code",
   "execution_count": null,
   "id": "e2f53f58-08ce-49f7-b6e1-3f7329856271",
   "metadata": {},
   "outputs": [],
   "source": [
    "7) State a character used to give single line comments in Python. \n",
    "ans) \"#\" is used to give single line comments. "
   ]
  },
  {
   "cell_type": "code",
   "execution_count": null,
   "id": "7234ccfc-a7c0-42f6-810b-5128889b2a3d",
   "metadata": {},
   "outputs": [],
   "source": [
    "8) Mention functions which can help us to find the version of python  that we are using currently?\n",
    "ans) sys.version command can be used to know about the version "
   ]
  },
  {
   "cell_type": "code",
   "execution_count": null,
   "id": "5f652a1b-0a9b-4740-9f57-a80f9558b792",
   "metadata": {},
   "outputs": [],
   "source": [
    "9) Python supports the creation of anonymous funtions at runtime, using a constructor called? \n",
    "ans) lambda "
   ]
  },
  {
   "cell_type": "code",
   "execution_count": null,
   "id": "0be487ce-f0cc-4f8e-9765-07ccb685de5f",
   "metadata": {},
   "outputs": [],
   "source": [
    "10) What does pip stand for in python? \n",
    "ans) preferred installer program"
   ]
  },
  {
   "cell_type": "code",
   "execution_count": null,
   "id": "31231fdb-d4bc-4e08-870b-32a2b5d24140",
   "metadata": {},
   "outputs": [],
   "source": [
    "11) Mention a few builtin functions in python. \n",
    "ans) type(), print(), range(), slice(), sorted() "
   ]
  },
  {
   "cell_type": "code",
   "execution_count": null,
   "id": "75049e9a-2120-41c0-a1fc-777b2fda3614",
   "metadata": {},
   "outputs": [],
   "source": [
    "12)What is the maximum possibe length of an identifier in python?\n",
    "ans) 79 characters "
   ]
  },
  {
   "cell_type": "code",
   "execution_count": null,
   "id": "95512225-074f-4cc9-9b38-5ab7fdab40e4",
   "metadata": {},
   "outputs": [],
   "source": [
    "13) What are the benefits of using python? \n",
    "ans) dynamically typed, free and open source, vast libraries, interpreted "
   ]
  },
  {
   "cell_type": "code",
   "execution_count": null,
   "id": "22a6ac94-c845-498b-9bf0-91085df1122b",
   "metadata": {},
   "outputs": [],
   "source": [
    "14) How is memory managed in python? \n",
    "ans) Memory in Python is managed by Python private heap space. All Python objects and data structures are located in a private heap.\n"
   ]
  },
  {
   "cell_type": "code",
   "execution_count": null,
   "id": "6d809116-54bc-4626-97f1-16168253cfab",
   "metadata": {},
   "outputs": [],
   "source": [
    "15) How to install python on windows and set path variables? \n",
    "ans) Python can be installed on windows over the internet. For setting path variable, we have to go to advanced setting and then click on environment variable tab. Write path in variable name and paste to python folder. \n"
   ]
  },
  {
   "cell_type": "code",
   "execution_count": null,
   "id": "5290df91-1b3e-4145-98b3-3b07164be8bd",
   "metadata": {},
   "outputs": [],
   "source": [
    "16) Is indentation required in python ?\n",
    "ans) Yes indentation is mandatory to be used in python \n"
   ]
  }
 ],
 "metadata": {
  "kernelspec": {
   "display_name": "Python 3 (ipykernel)",
   "language": "python",
   "name": "python3"
  },
  "language_info": {
   "codemirror_mode": {
    "name": "ipython",
    "version": 3
   },
   "file_extension": ".py",
   "mimetype": "text/x-python",
   "name": "python",
   "nbconvert_exporter": "python",
   "pygments_lexer": "ipython3",
   "version": "3.10.8"
  }
 },
 "nbformat": 4,
 "nbformat_minor": 5
}
